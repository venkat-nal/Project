{
 "cells": [
  {
   "cell_type": "code",
   "execution_count": 1,
   "metadata": {},
   "outputs": [],
   "source": [
    "# Importing the libraries\n",
    "import pickle\n",
    "import pandas as pd\n",
    "import webbrowser\n",
    "import dash\n",
    "import dash_core_components as dcc\n",
    "import dash_html_components as html\n",
    "import dash_bootstrap_components as dbc\n",
    "from dash.dependencies import Input, Output, State\n",
    "from sklearn.feature_extraction.text import TfidfTransformer\n",
    "from sklearn.feature_extraction.text import CountVectorizer"
   ]
  },
  {
   "cell_type": "code",
   "execution_count": 2,
   "metadata": {},
   "outputs": [],
   "source": [
    "app = dash.Dash(external_stylesheets=[dbc.themes.BOOTSTRAP])\n",
    "project_name = \"Sentiment Analysis with Insights\""
   ]
  },
  {
   "cell_type": "code",
   "execution_count": 3,
   "metadata": {},
   "outputs": [],
   "source": [
    "def open_browser():\n",
    "    webbrowser.open_new(\"http://127.0.0.1:8050/\")"
   ]
  },
  {
   "cell_type": "code",
   "execution_count": 4,
   "metadata": {},
   "outputs": [],
   "source": [
    "def load_model():\n",
    "    global pickle_model\n",
    "    global vocab\n",
    "    global scrappedReviews"
   ]
  },
  {
   "cell_type": "code",
   "execution_count": 5,
   "metadata": {},
   "outputs": [],
   "source": [
    "scrappedReviews = pd.read_csv('scrappedReviewsAll.csv')"
   ]
  },
  {
   "cell_type": "code",
   "execution_count": null,
   "metadata": {},
   "outputs": [
    {
     "name": "stdout",
     "output_type": "stream",
     "text": [
      "Dash is running on http://127.0.0.1:8050/\n",
      "\n",
      " * Serving Flask app \"__main__\" (lazy loading)\n",
      " * Environment: production\n",
      "   WARNING: This is a development server. Do not use it in a production deployment.\n",
      "   Use a production WSGI server instead.\n",
      " * Debug mode: off\n"
     ]
    },
    {
     "name": "stderr",
     "output_type": "stream",
     "text": [
      " * Running on http://127.0.0.1:8050/ (Press CTRL+C to quit)\n",
      "127.0.0.1 - - [20/Mar/2021 17:27:44] \"\u001b[37mGET / HTTP/1.1\u001b[0m\" 200 -\n",
      "127.0.0.1 - - [20/Mar/2021 17:27:44] \"\u001b[37mGET /_dash-dependencies HTTP/1.1\u001b[0m\" 200 -\n",
      "127.0.0.1 - - [20/Mar/2021 17:27:44] \"\u001b[37mGET /_favicon.ico?v=1.19.0 HTTP/1.1\u001b[0m\" 200 -\n",
      "127.0.0.1 - - [20/Mar/2021 17:27:44] \"\u001b[37mGET /_dash-layout HTTP/1.1\u001b[0m\" 200 -\n"
     ]
    }
   ],
   "source": [
    "file = open(\"trained_model.pkl\", 'rb') \n",
    "pickle_model = pickle.load(file)\n",
    "file = open(\"feature.pkl\", 'rb') \n",
    "vocab = pickle.load(file)\n",
    "        \n",
    "def check_review(reviewText):\n",
    "    transformer = TfidfTransformer()\n",
    "    loaded_vec = CountVectorizer(decode_error=\"replace\",vocabulary=vocab)\n",
    "    reviewText = transformer.fit_transform(loaded_vec.fit_transform([reviewText]))\n",
    "    return pickle_model.predict(reviewText)\n",
    "\n",
    "def create_app_ui():\n",
    "    global project_name\n",
    "    main_layout = dbc.Container(\n",
    "        dbc.Jumbotron(\n",
    "                [\n",
    "                    html.H1(id = 'heading', children = project_name, className = 'display-3 mb-4'),\n",
    "                    dbc.Textarea(id = 'textarea', className=\"mb-3\", placeholder=\"Enter the Review\", value = 'My daughter loves these shoes', style = {'height': '150px'}),\n",
    "                    dbc.Container([\n",
    "                        dcc.Dropdown(\n",
    "                    id='dropdown',\n",
    "                    placeholder = 'Select a Review',\n",
    "                    options=[{'label': i[:100] + \"...\", 'value': i} for i in scrappedReviews.reviews],\n",
    "                    value = scrappedReviews.reviews[0],\n",
    "                    style = {'margin-bottom': '30px'}\n",
    "                    \n",
    "                )\n",
    "                       ],\n",
    "                        style = {'padding-left': '50px', 'padding-right': '50px'}\n",
    "                        ),\n",
    "                    dbc.Button(\"Submit\", color=\"dark\", className=\"mt-2 mb-3\", id = 'button', style = {'width': '100px'}),\n",
    "                    html.Div(id = 'result'),\n",
    "                    html.Div(id = 'result1')\n",
    "                    ],\n",
    "                className = 'text-center'\n",
    "                ),\n",
    "        className = 'mt-4'\n",
    "        )\n",
    "    \n",
    "    return main_layout\n",
    "\n",
    "@app.callback(\n",
    "    Output('result', 'children'),\n",
    "    [\n",
    "    Input('button', 'n_clicks')\n",
    "    ],\n",
    "    [\n",
    "    State('textarea', 'value')\n",
    "    ]\n",
    "    )    \n",
    "def update_app_ui(n_clicks, textarea):\n",
    "    result_list = check_review(textarea)\n",
    "    \n",
    "    if (result_list[0] == 0 ):\n",
    "        return dbc.Alert(\"Negative\", color=\"danger\")\n",
    "    elif (result_list[0] == 1 ):\n",
    "        return dbc.Alert(\"Positive\", color=\"success\")\n",
    "    else:\n",
    "        return dbc.Alert(\"Unknown\", color=\"dark\")\n",
    "\n",
    "@app.callback(\n",
    "    Output('result1', 'children'),\n",
    "    [\n",
    "    Input('button', 'n_clicks')\n",
    "    ],\n",
    "    [\n",
    "     State('dropdown', 'value')\n",
    "     ]\n",
    "    )\n",
    "def update_dropdown(n_clicks, value):\n",
    "    result_list = check_review(value)\n",
    "    \n",
    "    if (result_list[0] == 0 ):\n",
    "        return dbc.Alert(\"Negative\", color=\"danger\")\n",
    "    elif (result_list[0] == 1 ):\n",
    "        return dbc.Alert(\"Positive\", color=\"success\")\n",
    "    else:\n",
    "        return dbc.Alert(\"Unknown\", color=\"dark\")\n",
    "    \n",
    "def main():\n",
    "    global app\n",
    "    global project_name\n",
    "    load_model()\n",
    "    open_browser()\n",
    "    app.layout = create_app_ui()\n",
    "    app.title = project_name\n",
    "    app.run_server()\n",
    "    app = None\n",
    "    project_name = None\n",
    "if __name__ == '__main__':\n",
    "    main()"
   ]
  },
  {
   "cell_type": "code",
   "execution_count": null,
   "metadata": {},
   "outputs": [],
   "source": []
  },
  {
   "cell_type": "code",
   "execution_count": null,
   "metadata": {},
   "outputs": [],
   "source": []
  },
  {
   "cell_type": "code",
   "execution_count": null,
   "metadata": {},
   "outputs": [],
   "source": []
  }
 ],
 "metadata": {
  "kernelspec": {
   "display_name": "Python 3",
   "language": "python",
   "name": "python3"
  },
  "language_info": {
   "codemirror_mode": {
    "name": "ipython",
    "version": 3
   },
   "file_extension": ".py",
   "mimetype": "text/x-python",
   "name": "python",
   "nbconvert_exporter": "python",
   "pygments_lexer": "ipython3",
   "version": "3.8.5"
  }
 },
 "nbformat": 4,
 "nbformat_minor": 4
}
